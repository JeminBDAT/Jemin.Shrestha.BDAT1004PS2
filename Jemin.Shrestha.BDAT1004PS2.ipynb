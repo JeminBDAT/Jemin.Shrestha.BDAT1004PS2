{
 "cells": [
  {
   "cell_type": "markdown",
   "id": "3c54707b",
   "metadata": {},
   "source": [
    "# Problem Set 2"
   ]
  },
  {
   "cell_type": "markdown",
   "id": "cac794e1",
   "metadata": {},
   "source": [
    "# Question 1\n",
    "Consider the following Python module:\n",
    "a = 0\n",
    "def b():\n",
    "    global a\n",
    "    a = c(a)\n",
    "def c(a):\n",
    "    return a + 2\n",
    "After importing the module into the interpreter, you execute:\n",
    "- b()\n",
    "- b()\n",
    "- b()\n",
    "- a ?\n",
    "What value is displayed when the last expression (a) is evaluated? \n",
    "Explain youranswer by indicating what happens in every executed statement"
   ]
  },
  {
   "cell_type": "markdown",
   "id": "cb92396a",
   "metadata": {},
   "source": [
    "# Solution 1"
   ]
  },
  {
   "cell_type": "code",
   "execution_count": 3,
   "id": "30d0ea6d",
   "metadata": {},
   "outputs": [
    {
     "name": "stdout",
     "output_type": "stream",
     "text": [
      "6\n"
     ]
    }
   ],
   "source": [
    "a = 0\n",
    "def b():\n",
    "    global a\n",
    "    a = c(a)\n",
    "def c(a):\n",
    "    return a + 2\n",
    "\n",
    "b()\n",
    "b()\n",
    "b()\n",
    "print (a)"
   ]
  },
  {
   "cell_type": "markdown",
   "id": "2dc28efb",
   "metadata": {},
   "source": [
    "### As shown above the code returns the value of 6 when we print the value of a. The reason behind for this is because:\n",
    "- 1) Function b makes the variable 'a' global\n",
    "- 2) The variable a is assigned function 'c' where the value of 'a' is passed which is currently 0\n",
    "- 3) When the function 'c' is called the parameter is passed as 0 for the first time. This function then returns a+2 which is 0+2. Therefore the value becomes 2 for the first time.\n",
    "- 4) The next time when the function 'b' is called. The value of a is 2, since the last execution. Then again the value of a gets updated to 4 since the function 'c' returns a(2) + 2 = 4. \n",
    "- 5) Since the function is repeated 3 times the value of a becomes 6. \n",
    "- b() = 0 + 2 = 2\n",
    "- b () = 2 + 2 = 4\n",
    "- b() = 4 + 2 = 6"
   ]
  },
  {
   "cell_type": "markdown",
   "id": "9d21d557",
   "metadata": {},
   "source": [
    "# Question 2\n",
    "Function fileLength(), given to you, takes the name of a file as input and returnsthe length of the file:\n",
    "-fileLength('midterm.py')284\n",
    "-fileLength('idterm.py')Traceback (most recent call last):File \"<pyshell#34>\", line 1, in module\n",
    "    fileLength('idterm.py')File \"/Users/me/midterm.py\", line 3, in fileLengthinfile = open(filename)FileNotFoundError: [Errno 2] No such file or directory:'idterm.py'\n",
    "As shown above, if the file cannot be found by the interpreter or if it cannot be readas a text file, an exception will be raised. \n",
    "Modify function fileLength() so that afriendly message is printed instead:\n",
    "- fileLength('midterm.py')358\n",
    "- fileLength('idterm.py')File idterm.py not found"
   ]
  },
  {
   "cell_type": "code",
   "execution_count": 12,
   "id": "51301bb2",
   "metadata": {},
   "outputs": [
    {
     "name": "stdout",
     "output_type": "stream",
     "text": [
      "Enter filename: Jemin.Shrestha.BDAT1004PS1.ipynb\n",
      "27554\n",
      "Enter filename: invalid.py\n",
      "File invalid.py not found.\n"
     ]
    }
   ],
   "source": [
    "def file_length(file_name):\n",
    "    try:\n",
    "        file = open(file_name)\n",
    "        contents = file.read()\n",
    "        file.close()\n",
    "        print(len(contents))\n",
    "    except FileNotFoundError:\n",
    "        print(f'File {file_name} not found.')\n",
    "    \n",
    "\n",
    "getFile = input(\"Enter filename: \")\n",
    "file_length(getFile)\n",
    "getFile = input(\"Enter filename: \")\n",
    "file_length(getFile)"
   ]
  },
  {
   "cell_type": "markdown",
   "id": "c1f3c886",
   "metadata": {},
   "source": [
    "# Question 3\n",
    "\n",
    "## Marsupial and Kangaroo Classes\n",
    "\n",
    "Write a Python class named `Marsupial` that can be used as shown below:\n",
    "\n",
    "```python\n",
    "m = Marsupial()\n",
    "m.put_in_pouch('doll')\n",
    "m.put_in_pouch('firetruck')\n",
    "m.put_in_pouch('kitten')\n",
    "print(m.pouch_contents())  # Output: ['doll', 'firetruck', 'kitten']\n",
    "\n",
    "k = Kangaroo(0, 0)\n",
    "print(k)  # Output: I am a Kangaroo located at coordinates (0,0)\n",
    "\n",
    "k.put_in_pouch('doll')\n",
    "k.put_in_pouch('firetruck')\n",
    "k.put_in_pouch('kitten')\n",
    "print(k.pouch_contents())  # Output: ['doll', 'firetruck', 'kitten']\n",
    "\n",
    "k.jump(1, 0)\n",
    "k.jump(1, 0)\n",
    "k.jump(1, 0)\n",
    "print(k)  # Output: I am a Kangaroo located at coordinates (3,0)\n",
    "\n"
   ]
  },
  {
   "cell_type": "code",
   "execution_count": 18,
   "id": "b17481d4",
   "metadata": {},
   "outputs": [
    {
     "name": "stdout",
     "output_type": "stream",
     "text": [
      "['doll', 'firetruck', 'kitten']\n",
      "I am a Kangaroo located at coordinates (0,0)\n",
      "['doll', 'firetruck', 'kitten']\n",
      "I am a Kangaroo located at coordinates (3,0)\n"
     ]
    }
   ],
   "source": [
    "class Marsupial:\n",
    "    def __init__(get):\n",
    "        get.pouch = []\n",
    "\n",
    "    def put_in_pouch(get, item):\n",
    "        get.pouch.append(item)\n",
    "\n",
    "    def pouch_contents(get):\n",
    "        return get.pouch\n",
    "\n",
    "\n",
    "class Kangaroo(Marsupial):\n",
    "    def __init__(get, x, y):\n",
    "        super().__init__()\n",
    "        get.x = x\n",
    "        get.y = y\n",
    "\n",
    "    def jump(get, dx, dy):\n",
    "        get.x += dx\n",
    "        get.y += dy\n",
    "\n",
    "    def __str__(get):\n",
    "        return f'I am a Kangaroo located at coordinates ({get.x},{get.y})'\n",
    "\n",
    "m = Marsupial()\n",
    "m.put_in_pouch('doll')\n",
    "m.put_in_pouch('firetruck')\n",
    "m.put_in_pouch('kitten')\n",
    "print(m.pouch_contents())\n",
    "\n",
    "k = Kangaroo(0, 0)\n",
    "print(k)\n",
    "k.put_in_pouch('doll')\n",
    "k.put_in_pouch('firetruck')\n",
    "k.put_in_pouch('kitten')\n",
    "print(k.pouch_contents()) \n",
    "\n",
    "k.jump(1, 0)\n",
    "k.jump(1, 0)\n",
    "k.jump(1, 0)\n",
    "print(k)\n"
   ]
  },
  {
   "cell_type": "markdown",
   "id": "04b825f5",
   "metadata": {},
   "source": [
    "# Question 4\n",
    "\n",
    "Write a function `collatz()` that takes a positive integer `x` as input and prints the Collatz sequence starting at `x`. A Collatz sequence is obtained by repeatedly applying this rule to the previous number `x` in the sequence:\n",
    "\n",
    "- If `x` is even: `x = x / 2`\n",
    "- If `x` is odd: `x = 3 * x + 1`\n",
    "\n",
    "Your function should stop when the sequence gets to the number 1. Your implementation must be recursive, without using any loops.\n"
   ]
  },
  {
   "cell_type": "code",
   "execution_count": 32,
   "id": "a8850e17",
   "metadata": {},
   "outputs": [
    {
     "name": "stdout",
     "output_type": "stream",
     "text": [
      "Enter a Number: 10\n",
      "10\n",
      "5\n",
      "16\n",
      "8\n",
      "4\n",
      "2\n",
      "1\n"
     ]
    }
   ],
   "source": [
    "def collatz(x):\n",
    "    print(x)\n",
    "    if x == 1:\n",
    "        return \n",
    "    \n",
    "    if x % 2 == 0:\n",
    "        x = x // 2\n",
    "    else:\n",
    "        x = 3 * x + 1 \n",
    "    collatz(x)\n",
    "\n",
    "getNum = int(input(\"Enter a Number: \"))\n",
    "collatz(getNum)"
   ]
  },
  {
   "cell_type": "markdown",
   "id": "a2d4e78e",
   "metadata": {},
   "source": [
    "# Question 5\n",
    "Write a recursive method binary() that takes a non-negativeinteger n and prints the binary representation of integer n."
   ]
  },
  {
   "cell_type": "code",
   "execution_count": 36,
   "id": "21d1455b",
   "metadata": {},
   "outputs": [
    {
     "name": "stdout",
     "output_type": "stream",
     "text": [
      "Enter a number: 5\n",
      "101"
     ]
    }
   ],
   "source": [
    "def bin(num):\n",
    "    if num > 1:\n",
    "        bin(num // 2)\n",
    "    print(num % 2, end = '')\n",
    "    \n",
    "getNum = int(input('Enter a number: '))\n",
    "\n",
    "bin(getNum)"
   ]
  },
  {
   "cell_type": "markdown",
   "id": "d2627ede",
   "metadata": {},
   "source": [
    "# Question 6\n",
    "Implement a class named HeadingParser that can be used to parse an HTMLdocument, and retrieve and print all the headings in the document. You shouldimplement your class as a subclass of HTMLParser, defined in Standard Librarymodule html.parser. When fed a string containing HTML code, your class shouldprint the headings, one per line and in the order in which they appear in thedocument. Each heading should be indented as follows: an h1 heading should have indentation 0, and h2 heading should have indentation 1, etc. Test yourimplementation using w3c.html."
   ]
  },
  {
   "cell_type": "code",
   "execution_count": 4,
   "id": "d0777125",
   "metadata": {},
   "outputs": [
    {
     "name": "stdout",
     "output_type": "stream",
     "text": [
      "W3C Mission\n",
      "  Principles\n"
     ]
    }
   ],
   "source": [
    "from html.parser import HTMLParser\n",
    "\n",
    "class HeadingParser(HTMLParser):\n",
    "    \n",
    "    def __init__(self):\n",
    "        super().__init__()\n",
    "        self.inside_heading = False\n",
    "        self.current_heading_level = None\n",
    "        \n",
    "    def handle_starttag(self, tag, attrs):\n",
    "        if tag.startswith('h') and tag[1:].isdigit():\n",
    "            self.inside_heading = True\n",
    "            self.current_heading_level = int(tag[1:])\n",
    "            \n",
    "    def handle_endtag(self, tag):\n",
    "        if tag.startswith('h') and tag[1:].isdigit():\n",
    "            self.inside_heading = False\n",
    "            self.current_heading_level = None\n",
    "            \n",
    "    def handle_data(self, data):\n",
    "        if self.inside_heading and self.current_heading_level is not None:\n",
    "            indentation = ' ' * (self.current_heading_level - 1) * 2\n",
    "            print(f\"{indentation}{data}\")\n",
    "\n",
    "with open(\"../Datasets/w3c.html\", 'r') as infile:\n",
    "    content = infile.read()\n",
    "\n",
    "hp = HeadingParser()\n",
    "hp.feed(content)\n"
   ]
  },
  {
   "cell_type": "markdown",
   "id": "f2f9c38a",
   "metadata": {},
   "source": [
    "# Question 7\n",
    "Implement recursive function webdir() that takes as input: a URL (as a string) and non-negative integers depth and indent. Your function should visit every webpage reachable from the starting URL web page in depth clicks or less, and printeach web page's URL. As shown below, indentation, specified by indent, shouldbe used to indicate the depth of a URL."
   ]
  },
  {
   "cell_type": "code",
   "execution_count": 6,
   "id": "a17259d8",
   "metadata": {},
   "outputs": [
    {
     "name": "stdout",
     "output_type": "stream",
     "text": [
      "Requirement already satisfied: requests in c:\\users\\jemin\\anaconda3\\lib\\site-packages (2.31.0)\n",
      "Requirement already satisfied: charset-normalizer<4,>=2 in c:\\users\\jemin\\anaconda3\\lib\\site-packages (from requests) (2.0.4)\n",
      "Requirement already satisfied: idna<4,>=2.5 in c:\\users\\jemin\\anaconda3\\lib\\site-packages (from requests) (3.4)\n",
      "Requirement already satisfied: urllib3<3,>=1.21.1 in c:\\users\\jemin\\anaconda3\\lib\\site-packages (from requests) (1.26.16)\n",
      "Requirement already satisfied: certifi>=2017.4.17 in c:\\users\\jemin\\anaconda3\\lib\\site-packages (from requests) (2023.7.22)\n",
      "Note: you may need to restart the kernel to use updated packages.\n"
     ]
    }
   ],
   "source": [
    "pip install requests"
   ]
  },
  {
   "cell_type": "code",
   "execution_count": 25,
   "id": "44860476",
   "metadata": {},
   "outputs": [
    {
     "name": "stdout",
     "output_type": "stream",
     "text": [
      "https://www.georgiancollege.ca/admissions/banner-login-information/\n",
      "  http://library.georgiancollege.ca/main\n",
      "    http://www.georgiancollege.ca/\n",
      "    http://library.georgiancollege.ca\n",
      "    http://library.georgiancollege.ca/hours\n",
      "    http://library.georgiancollege.ca/resources\n",
      "    https://georgian.primo.exlibrisgroup.com/discovery/search?vid=01OCLS_GEORG:GEORG\n",
      "    https://library.georgiancollege.ca/er.php\n",
      "    http://library.georgiancollege.ca/az.php\n",
      "    http://library.georgiancollege.ca/guides\n",
      "    http://library.georgiancollege.ca/video_streaming\n",
      "    http://library.georgiancollege.ca/services\n",
      "    https://library.georgiancollege.ca/services/atlibrary\n",
      "    https://bookings.georgiancollege.ca/portal/\n",
      "    https://library.georgiancollege.ca/services/printing\n",
      "    https://library.georgiancollege.ca/doingresearch\n",
      "    https://library.georgiancollege.ca/copyright-at-georgian\n",
      "    http://library.georgiancollege.ca/services/accessibility\n",
      "    http://library.georgiancollege.ca/staff_faculty\n",
      "    http://www.georgiancollege.ca/form/schedule-library-orientation/\n",
      "    http://library.georgiancollege.ca/staff_faculty/ereserves\n",
      "    http://library.georgiancollege.ca/oer\n",
      "    http://library.georgiancollege.ca/lakehead\n",
      "    http://library.georgiancollege.ca/services/alumni_community\n",
      "    http://library.georgiancollege.ca/help\n",
      "    http://library.georgiancollege.ca/writing_centre\n",
      "    http://library.georgiancollege.ca/tutoring\n",
      "    http://library.georgiancollege.ca/math_centre\n",
      "    http://library.georgiancollege.ca/citing\n",
      "    https://library.georgiancollege.ca/troubleshooting\n",
      "    https://library.georgiancollege.ca/faqs\n",
      "    https://library.georgiancollege.ca/troubleshooting\n",
      "    https://library.georgiancollege.ca/linking/stablelinks\n",
      "    https://library.georgiancollege.ca/ebookhelp\n",
      "    https://library.georgiancollege.ca/dboncampus\n",
      "    https://library.georgiancollege.ca/doingresearch\n",
      "    http://library.georgiancollege.ca/about\n",
      "    https://library.georgiancollege.ca/help/contact-academic-success\n",
      "    https://library.georgiancollege.ca/services/contact-library\n",
      "    http://library.georgiancollege.ca/about\n",
      "    http://library.georgiancollege.ca/about/policies\n",
      "    https://library.georgiancollege.ca/Staff-Directory\n",
      "    http://www.georgiancollege.ca\n",
      "    https://library.georgiancollege.ca/\n",
      "    https://library.georgiancollege.ca/welcome-online\n",
      "    https://library.georgiancollege.ca/hours\n",
      "    https://georgian.primo.exlibrisgroup.com/discovery/search?vid=01OCLS_GEORG:GEORG&mode=advanced\n",
      "    http://library.georgiancollege.ca/hours\n",
      "    https://library.georgiancollege.ca/citing\n",
      "    https://library.georgiancollege.ca/az.php\n",
      "    https://library.georgiancollege.ca/er.php?b=i\n",
      "    https://web.penjiapp.com/schools/georgian\n",
      "    https://georgiancollege.libwizard.com/f/submit-a-paper\n",
      "    https://library.georgiancollege.ca/writing_centre/LanguageHelp\n",
      "    https://library.georgiancollege.ca/writing_centre\n",
      "    https://web.penjiapp.com/schools/georgian\n",
      "    https://web.penjiapp.com/schools/georgian\n",
      "    https://library.georgiancollege.ca/tutoring\n",
      "    https://web.penjiapp.com/schools/georgian\n",
      "    https://library.georgiancollege.ca/math_centre/tools\n",
      "    https://library.georgiancollege.ca/math_centre\n",
      "    https://library.georgiancollege.ca/guides\n",
      "    https://library.georgiancollege.ca/doingresearch/intro\n",
      "    https://library.georgiancollege.ca/doingresearch/research-help\n",
      "    https://www.georgiancollege.ca\n",
      "    https://georgiancollege.libapps.com/libapps/login.php?site_id=351&target64=L2xpYmd1aWRlcy9hZG1pbl9jLnBocD9nPTcxNjUzMiZwPTUxMDkxNzA=\n",
      "  http://aka.ms/ssprsetup\n",
      "  https://sis-ssb.georgiancollege.ca:9110/GEOR/wwconfinfo_pl.VerifyAccount?username=&pRedirectUrl=null\n",
      "    https://sis-ssb.georgiancollege.ca:9110/GEOR/wwgcinfo_pl.display_form\n",
      "    http://www.georgiancollege.ca/admissions/contact/\n",
      "  http://aka.ms/ssprsetup\n",
      "  https://youtu.be/CG7flLUlDj8\n",
      "    https://www.youtube.com/about/\n",
      "    https://www.youtube.com/about/press/\n",
      "    https://www.youtube.com/about/copyright/\n",
      "    https://www.youtube.com/creators/\n",
      "    https://www.youtube.com/ads/\n",
      "    https://developers.google.com/youtube\n",
      "    https://www.youtube.com/about/policies/\n",
      "    https://www.youtube.com/howyoutubeworks?utm_campaign=ytgen&utm_source=ythp&utm_medium=LeftNav&utm_content=txt&u=https%3A%2F%2Fwww.youtube.com%2Fhowyoutubeworks%3Futm_source%3Dythp%26utm_medium%3DLeftNav%26utm_campaign%3Dytgen\n",
      "  https://twitter.com/georgiancollege\n",
      "    https://help.twitter.com/using-twitter/twitter-supported-browsers\n",
      "    https://twitter.com/tos\n",
      "    https://twitter.com/privacy\n",
      "    https://support.twitter.com/articles/20170514\n",
      "    https://legal.twitter.com/imprint.html\n",
      "    https://business.twitter.com/en/help/troubleshooting/how-twitter-ads-work.html?ref=web-twc-ao-gbl-adsinfo&utm_source=twc&utm_medium=web&utm_campaign=ao&utm_content=adsinfo\n",
      "  https://www.facebook.com/GeorgianCollege\n",
      "  http://www.youtube.com/georgianvideos\n",
      "    https://www.youtube.com/about/\n",
      "    https://www.youtube.com/about/press/\n",
      "    https://www.youtube.com/about/copyright/\n",
      "    https://www.youtube.com/creators/\n",
      "    https://www.youtube.com/ads/\n",
      "    https://developers.google.com/youtube\n",
      "    https://www.youtube.com/about/policies/\n",
      "    https://www.youtube.com/howyoutubeworks?utm_campaign=ytgen&utm_source=ythp&utm_medium=LeftNav&utm_content=txt&u=https%3A%2F%2Fwww.youtube.com%2Fhowyoutubeworks%3Futm_source%3Dythp%26utm_medium%3DLeftNav%26utm_campaign%3Dytgen\n",
      "  http://instagram.com/georgiancollege\n",
      "  https://www.linkedin.com/school/2409/\n"
     ]
    }
   ],
   "source": [
    "import requests\n",
    "from bs4 import BeautifulSoup\n",
    "\n",
    "def fetch_urls(url):\n",
    "    try:\n",
    "        response = requests.get(url)\n",
    "        response.raise_for_status()\n",
    "        return response.text\n",
    "    except requests.exceptions.RequestException:\n",
    "        return None\n",
    "\n",
    "def webdir(url, depth, indent):\n",
    "    if depth < 0:\n",
    "        return\n",
    "\n",
    "    content = fetch_urls(url)\n",
    "\n",
    "    if content is not None:\n",
    "        print('  ' * indent + url)\n",
    "        links = get_links_from_html(content)\n",
    "\n",
    "        for link in links:\n",
    "            webdir(link, depth - 1, indent + 1)\n",
    "\n",
    "def get_links_from_html(html_content):\n",
    "    soup = BeautifulSoup(html_content, 'html.parser')\n",
    "    links = [link.get('href') for link in soup.find_all('a', href=True)]\n",
    "    return links\n",
    "\n",
    "webdir('https://www.georgiancollege.ca/admissions/banner-login-information/',2,0)\n"
   ]
  },
  {
   "cell_type": "markdown",
   "id": "926f2b63",
   "metadata": {},
   "source": [
    "# Question 8\n",
    "\n",
    "Write SQL queries on the below database table that return:\n",
    "- a) All the temperature data.\n",
    "- b) All the cities, but without repetition.\n",
    "- c) All the records for India.\n",
    "- d) All the Fall records.\n",
    "- e) The city, country, and season for which the average rainfall is between 200and 400 millimeters.\n",
    "- f) The city and country for which the average Fall temperature is above 20degrees, in increasing temperature order.\n",
    "- g) The total annual rainfall for Cairo.\n",
    "- h) The total rainfall for each season.\n",
    "\n",
    "\n",
    "- Table Name: `CityTemp`\n",
    "\n",
    "\n",
    "| City     | Country         | Season | Temperature (C) | Rainfall (mm) |\n",
    "|----------|-----------------|--------|------------------|----------------|\n",
    "| Mumbai   | India           | Winter | 24.8             | 5.9            |\n",
    "| Mumbai   | India           | Spring | 28.4             | 16.2           |\n",
    "| Mumbai   | India           | Summer | 27.9             | 1549.4         |\n",
    "| Mumbai   | India           | Fall   | 27.6             | 346.0          |\n",
    "| London   | United Kingdom  | Winter | 4.2              | 207.7          |\n",
    "| London   | United Kingdom  | Spring | 8.3              | 169.6          |\n",
    "| London   | United Kingdom  | Summer | 15.7             | 157.0          |\n",
    "| London   | United Kingdom  | Fall   | 10.4             | 218.5          |\n",
    "| Cairo    | Egypt           | Winter | 13.6             | 16.5           |\n",
    "| Cairo    | Egypt           | Spring | 20.7             | 6.5            |\n",
    "| Cairo    | Egypt           | Summer | 27.7             | 0.1            |\n",
    "| Cairo    | Egypt           | Fall   | 22.2             | 4.5            |\n",
    "\n"
   ]
  },
  {
   "cell_type": "markdown",
   "id": "4dbb08c5",
   "metadata": {},
   "source": [
    "##### a) SELECT Temperature FROM CityTemp;\n",
    "##### b) SELECT DISTINCT(City) AS UniqueCities FROM CityTemp;\n",
    "##### c) SELECT * FROM CityTemp WHERE Country = 'India';\n",
    "##### d) SELECT * FROM CityTemp WHERE Season = 'Fall';\n",
    "##### e) SELECT City, Country, Season FROM CityTemp GROUP BY City. Country, Season HAVING AVERAGE(Rainfall) BETWEEN 200 AND 400;\n",
    "##### f) SELECT City, Country FROM CityTemp GROUP BY City, Country HAVING AVERAGE(Temperature) > 20 ORDER BY Temperature;\n",
    "##### g) SELECT City, SUM(Rainfall) AS TotalRainfall FROM CityTemp GROUP BY City HAVING City = 'Cairo';\n",
    "##### h) SELECT Season, SUM(Rainfall) AS TotalRainfall FROM CityTemp GROUP BY Season ORDER BY Season;"
   ]
  },
  {
   "cell_type": "markdown",
   "id": "71bdf0ce",
   "metadata": {},
   "source": [
    "# Question 9\n",
    "Suppose list words is defined as follows:\n",
    ":>>> words = ['The', 'quick', 'brown', 'fox', 'jumps', 'over','the', 'lazy', 'dog']\n",
    "Write list comprehension expressions that use list words and generate the followinglists:\n",
    "- a) ['THE', 'QUICK', 'BROWN', 'FOX', 'JUMPS', 'OVER', 'THE','LAZY', 'DOG']\n",
    "- b) ['the', 'quick', 'brown', 'fox', 'jumps', 'over', 'the','lazy', 'dog']\n",
    "- c) [3, 5, 5, 3, 5, 4, 3, 4, 3] (the list of lengths of words in listwords).\n",
    "- d) [['THE', 'the', 3], ['QUICK', 'quick', 5], ['BROWN','brown', 5], ['FOX', 'fox', 3], ['JUMPS', 'jumps', 5],['OVER', 'over', 4], ['THE', 'the', 3], ['LAZY', 'lazy',4], ['DOG', 'dog', 3]] (the list containing a list for every word of listwords, where each list contains the word in uppercase and lowercase and thelength of the word.)\n",
    "- e) ['The', 'quick', 'brown', 'fox', 'jumps', 'over', 'the','lazy', 'dog'] (the list of words in list words containing 4 or morecharacters."
   ]
  },
  {
   "cell_type": "code",
   "execution_count": 39,
   "id": "dca25a63",
   "metadata": {},
   "outputs": [
    {
     "name": "stdout",
     "output_type": "stream",
     "text": [
      "a) Uppercase :  ['THE', 'QUICK', 'BROWN', 'FOX', 'JUMPS', 'OVER', 'THE', 'LAZY', 'DOG']\n",
      "b) Lowercase :  ['the', 'quick', 'brown', 'fox', 'jumps', 'over', 'the', 'lazy', 'dog']\n",
      "c) Word Lengths :  [3, 5, 5, 3, 5, 4, 3, 4, 3]\n",
      "d) Word Info :  [['THE', 'the', 3], ['QUICK', 'quick', 5], ['BROWN', 'brown', 5], ['FOX', 'fox', 3], ['JUMPS', 'jumps', 5], ['OVER', 'over', 4], ['THE', 'the', 3], ['LAZY', 'lazy', 4], ['DOG', 'dog', 3]]\n",
      "e) Words with More than 4 characters :  ['quick', 'brown', 'jumps', 'over', 'lazy']\n"
     ]
    }
   ],
   "source": [
    "words = ['The', 'quick', 'brown', 'fox', 'jumps', 'over', 'the', 'lazy', 'dog']\n",
    "\n",
    "# a)\n",
    "uppercase_words = [word.upper() for word in words]\n",
    "\n",
    "# b)\n",
    "lowercase_words = [word.lower() for word in words]\n",
    "\n",
    "# c)\n",
    "word_len = [len(word) for word in words]\n",
    "\n",
    "# d)\n",
    "word_info = [[word.upper(), word.lower(), len(word)] for word in words]\n",
    "\n",
    "# e)\n",
    "words_four = [word for word in words if len(word) >= 4]\n",
    "\n",
    "print(\"a) Uppercase : \", uppercase_words)\n",
    "print(\"b) Lowercase : \", lowercase_words)\n",
    "print(\"c) Word Lengths : \", word_len)\n",
    "print(\"d) Word Info : \", word_info)\n",
    "print(\"e) Words with More than 4 characters : \", words_four)\n"
   ]
  }
 ],
 "metadata": {
  "kernelspec": {
   "display_name": "Python 3 (ipykernel)",
   "language": "python",
   "name": "python3"
  },
  "language_info": {
   "codemirror_mode": {
    "name": "ipython",
    "version": 3
   },
   "file_extension": ".py",
   "mimetype": "text/x-python",
   "name": "python",
   "nbconvert_exporter": "python",
   "pygments_lexer": "ipython3",
   "version": "3.11.4"
  }
 },
 "nbformat": 4,
 "nbformat_minor": 5
}
